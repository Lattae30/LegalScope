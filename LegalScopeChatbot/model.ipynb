{
 "cells": [
  {
   "cell_type": "code",
   "execution_count": 29,
   "metadata": {},
   "outputs": [
    {
     "name": "stderr",
     "output_type": "stream",
     "text": [
      "[nltk_data] Downloading package punkt to\n",
      "[nltk_data]     C:\\Users\\khalf\\AppData\\Roaming\\nltk_data...\n",
      "[nltk_data]   Package punkt is already up-to-date!\n"
     ]
    },
    {
     "data": {
      "text/plain": [
       "True"
      ]
     },
     "execution_count": 29,
     "metadata": {},
     "output_type": "execute_result"
    }
   ],
   "source": [
    "import re\n",
    "import json\n",
    "import nltk\n",
    "import string\n",
    "import random\n",
    "import pathlib\n",
    "import numpy as np\n",
    "import pandas as pd\n",
    "import tensorflow as tf\n",
    "import matplotlib.pyplot as plt\n",
    "from sklearn.utils import shuffle\n",
    "\n",
    "\n",
    "from nltk.corpus import stopwords\n",
    "from nltk.tokenize import word_tokenize\n",
    "from tensorflow.keras.models import Model\n",
    "from tensorflow.keras.utils import plot_model\n",
    "from sklearn.preprocessing import LabelEncoder\n",
    "from tensorflow.keras.preprocessing.text import Tokenizer\n",
    "from tensorflow.keras.preprocessing.sequence import pad_sequences\n",
    "\n",
    "from tensorflow.keras.models import Model\n",
    "\n",
    "\n",
    "nltk.download('punkt')"
   ]
  },
  {
   "cell_type": "code",
   "execution_count": null,
   "metadata": {},
   "outputs": [],
   "source": []
  },
  {
   "cell_type": "code",
   "execution_count": null,
   "metadata": {},
   "outputs": [],
   "source": []
  },
  {
   "cell_type": "code",
   "execution_count": 30,
   "metadata": {},
   "outputs": [
    {
     "name": "stdout",
     "output_type": "stream",
     "text": [
      "     tag                                           patterns  \\\n",
      "0  qna 1  [Apa tujuan utama dari pembentukan Kitab Undan...   \n",
      "1  qna 2  [Apa yang dimaksud dengan Kitab Undang-Undang ...   \n",
      "2  qna 3  [Bagaimana ruang lingkup berlakunya ketentuan ...   \n",
      "3  qna 4  [Apa yang dimaksud dengan asas wilayah atau te...   \n",
      "4  qna 5  [Bagaimana ketentuan Pasal 2 ayat (1) dan (2) ...   \n",
      "\n",
      "                                           responses context  \n",
      "0  [Tujuan utama dari pembentukan Kitab Undang-Un...      []  \n",
      "1  [Kitab Undang-Undang Hukum Pidana (KUHP) adala...      []  \n",
      "2  [Ketentuan peraturan Perundang-undangan hukum ...      []  \n",
      "3  [Asas wilayah atau teritorial adalah asas hubu...      []  \n",
      "4  [Hukum yang hidup dalam masyarakat yang terdap...      []  \n"
     ]
    }
   ],
   "source": [
    "# read json file\n",
    "with open('C:/Users/khalf/Code/LegalScope/LegalScopeChatbot/intents.json', 'r', encoding='utf-8') as content:\n",
    "    chatbot = json.load(content)\n",
    "\n",
    "#convert to dataframe  \n",
    "data = pd.DataFrame(chatbot['intents'])\n",
    "\n",
    "print(data.head())"
   ]
  },
  {
   "cell_type": "code",
   "execution_count": 18,
   "metadata": {},
   "outputs": [
    {
     "data": {
      "text/html": [
       "<div>\n",
       "<style scoped>\n",
       "    .dataframe tbody tr th:only-of-type {\n",
       "        vertical-align: middle;\n",
       "    }\n",
       "\n",
       "    .dataframe tbody tr th {\n",
       "        vertical-align: top;\n",
       "    }\n",
       "\n",
       "    .dataframe thead th {\n",
       "        text-align: right;\n",
       "    }\n",
       "</style>\n",
       "<table border=\"1\" class=\"dataframe\">\n",
       "  <thead>\n",
       "    <tr style=\"text-align: right;\">\n",
       "      <th></th>\n",
       "      <th>tag</th>\n",
       "      <th>patterns</th>\n",
       "      <th>responses</th>\n",
       "    </tr>\n",
       "  </thead>\n",
       "  <tbody>\n",
       "    <tr>\n",
       "      <th>0</th>\n",
       "      <td>qna 1</td>\n",
       "      <td>Apa tujuan utama dari pembentukan Kitab Undang...</td>\n",
       "      <td>[Tujuan utama dari pembentukan Kitab Undang-Un...</td>\n",
       "    </tr>\n",
       "    <tr>\n",
       "      <th>1</th>\n",
       "      <td>qna 1</td>\n",
       "      <td>Mengapa diperlukan pembentukan Kitab Undang-Un...</td>\n",
       "      <td>[Tujuan utama dari pembentukan Kitab Undang-Un...</td>\n",
       "    </tr>\n",
       "    <tr>\n",
       "      <th>2</th>\n",
       "      <td>qna 1</td>\n",
       "      <td>Apa alasan utama di balik revisi Kitab Undang-...</td>\n",
       "      <td>[Tujuan utama dari pembentukan Kitab Undang-Un...</td>\n",
       "    </tr>\n",
       "    <tr>\n",
       "      <th>3</th>\n",
       "      <td>qna 1</td>\n",
       "      <td>Apa yang mendorong pembaruan Kitab Undang-Unda...</td>\n",
       "      <td>[Tujuan utama dari pembentukan Kitab Undang-Un...</td>\n",
       "    </tr>\n",
       "    <tr>\n",
       "      <th>4</th>\n",
       "      <td>qna 1</td>\n",
       "      <td>Apa motivasi utama dalam menyusun KUHP yang baru?</td>\n",
       "      <td>[Tujuan utama dari pembentukan Kitab Undang-Un...</td>\n",
       "    </tr>\n",
       "    <tr>\n",
       "      <th>...</th>\n",
       "      <td>...</td>\n",
       "      <td>...</td>\n",
       "      <td>...</td>\n",
       "    </tr>\n",
       "    <tr>\n",
       "      <th>66</th>\n",
       "      <td>qna 46</td>\n",
       "      <td>Bagaimana ketentuan mengenai tindak pidana kor...</td>\n",
       "      <td>[Ketentuan tindak pidana korupsi (TIpikor) men...</td>\n",
       "    </tr>\n",
       "    <tr>\n",
       "      <th>67</th>\n",
       "      <td>qna 47</td>\n",
       "      <td>Bagaimana KUHP mengatur tindak pidana narkotika?</td>\n",
       "      <td>[Tindak pidana narkotika diatur dari Pasal 609...</td>\n",
       "    </tr>\n",
       "    <tr>\n",
       "      <th>68</th>\n",
       "      <td>qna 48</td>\n",
       "      <td>Bagaimana KUHP ini mengatur tindak pidana perd...</td>\n",
       "      <td>[Ketentuan mengenai larangan perdagangan orang...</td>\n",
       "    </tr>\n",
       "    <tr>\n",
       "      <th>69</th>\n",
       "      <td>qna 49</td>\n",
       "      <td>Bagaimana KUHP ini mengatur tindak pidana penc...</td>\n",
       "      <td>[Kitab Undang-Undang Hukum Pidana (KUHP) Indon...</td>\n",
       "    </tr>\n",
       "    <tr>\n",
       "      <th>70</th>\n",
       "      <td>qna 50</td>\n",
       "      <td>Sebutkan kasus pidana yang termasuk ke dalam p...</td>\n",
       "      <td>[Berikut merupakan beberapa kasus tindak pidan...</td>\n",
       "    </tr>\n",
       "  </tbody>\n",
       "</table>\n",
       "<p>71 rows × 3 columns</p>\n",
       "</div>"
      ],
      "text/plain": [
       "       tag                                           patterns  \\\n",
       "0    qna 1  Apa tujuan utama dari pembentukan Kitab Undang...   \n",
       "1    qna 1  Mengapa diperlukan pembentukan Kitab Undang-Un...   \n",
       "2    qna 1  Apa alasan utama di balik revisi Kitab Undang-...   \n",
       "3    qna 1  Apa yang mendorong pembaruan Kitab Undang-Unda...   \n",
       "4    qna 1  Apa motivasi utama dalam menyusun KUHP yang baru?   \n",
       "..     ...                                                ...   \n",
       "66  qna 46  Bagaimana ketentuan mengenai tindak pidana kor...   \n",
       "67  qna 47   Bagaimana KUHP mengatur tindak pidana narkotika?   \n",
       "68  qna 48  Bagaimana KUHP ini mengatur tindak pidana perd...   \n",
       "69  qna 49  Bagaimana KUHP ini mengatur tindak pidana penc...   \n",
       "70  qna 50  Sebutkan kasus pidana yang termasuk ke dalam p...   \n",
       "\n",
       "                                            responses  \n",
       "0   [Tujuan utama dari pembentukan Kitab Undang-Un...  \n",
       "1   [Tujuan utama dari pembentukan Kitab Undang-Un...  \n",
       "2   [Tujuan utama dari pembentukan Kitab Undang-Un...  \n",
       "3   [Tujuan utama dari pembentukan Kitab Undang-Un...  \n",
       "4   [Tujuan utama dari pembentukan Kitab Undang-Un...  \n",
       "..                                                ...  \n",
       "66  [Ketentuan tindak pidana korupsi (TIpikor) men...  \n",
       "67  [Tindak pidana narkotika diatur dari Pasal 609...  \n",
       "68  [Ketentuan mengenai larangan perdagangan orang...  \n",
       "69  [Kitab Undang-Undang Hukum Pidana (KUHP) Indon...  \n",
       "70  [Berikut merupakan beberapa kasus tindak pidan...  \n",
       "\n",
       "[71 rows x 3 columns]"
      ]
     },
     "execution_count": 18,
     "metadata": {},
     "output_type": "execute_result"
    }
   ],
   "source": [
    "#dictionary \n",
    "dict = {\"tag\": [], \"patterns\": [], \"responses\": []}\n",
    "\n",
    "#iterate trough the data\n",
    "for i in range (len(data)):\n",
    "  pattern = data[data.index==i]['patterns'].values[0]\n",
    "  response = data[data.index==i]['responses'].values[0]\n",
    "  tag = data[data.index==i]['tag'].values[0]\n",
    "  for j in range (len(pattern)):\n",
    "    dict['tag'].append(tag)\n",
    "    dict['patterns'].append((pattern[j]))\n",
    "    dict['responses'].append(response)\n",
    "\n",
    "#showing the data    \n",
    "data = pd.DataFrame.from_dict(dict)\n",
    "data"
   ]
  },
  {
   "cell_type": "code",
   "execution_count": 22,
   "metadata": {},
   "outputs": [],
   "source": [
    "with open('C:/Users/khalf/Code/LegalScope/LegalScopeChatbot/intents.json', 'r', encoding='utf-8') as content:\n",
    "    val_chatbot = json.load(content)\n",
    "val_data = pd.DataFrame(val_chatbot['intents'])"
   ]
  },
  {
   "cell_type": "code",
   "execution_count": 23,
   "metadata": {},
   "outputs": [
    {
     "data": {
      "text/html": [
       "<div>\n",
       "<style scoped>\n",
       "    .dataframe tbody tr th:only-of-type {\n",
       "        vertical-align: middle;\n",
       "    }\n",
       "\n",
       "    .dataframe tbody tr th {\n",
       "        vertical-align: top;\n",
       "    }\n",
       "\n",
       "    .dataframe thead th {\n",
       "        text-align: right;\n",
       "    }\n",
       "</style>\n",
       "<table border=\"1\" class=\"dataframe\">\n",
       "  <thead>\n",
       "    <tr style=\"text-align: right;\">\n",
       "      <th></th>\n",
       "      <th>tag</th>\n",
       "      <th>patterns</th>\n",
       "    </tr>\n",
       "  </thead>\n",
       "  <tbody>\n",
       "    <tr>\n",
       "      <th>0</th>\n",
       "      <td>qna 1</td>\n",
       "      <td>Apa tujuan utama dari pembentukan Kitab Undang...</td>\n",
       "    </tr>\n",
       "    <tr>\n",
       "      <th>1</th>\n",
       "      <td>qna 1</td>\n",
       "      <td>Mengapa diperlukan pembentukan Kitab Undang-Un...</td>\n",
       "    </tr>\n",
       "    <tr>\n",
       "      <th>2</th>\n",
       "      <td>qna 1</td>\n",
       "      <td>Apa alasan utama di balik revisi Kitab Undang-...</td>\n",
       "    </tr>\n",
       "    <tr>\n",
       "      <th>3</th>\n",
       "      <td>qna 1</td>\n",
       "      <td>Apa yang mendorong pembaruan Kitab Undang-Unda...</td>\n",
       "    </tr>\n",
       "    <tr>\n",
       "      <th>4</th>\n",
       "      <td>qna 1</td>\n",
       "      <td>Apa motivasi utama dalam menyusun KUHP yang baru?</td>\n",
       "    </tr>\n",
       "    <tr>\n",
       "      <th>...</th>\n",
       "      <td>...</td>\n",
       "      <td>...</td>\n",
       "    </tr>\n",
       "    <tr>\n",
       "      <th>277</th>\n",
       "      <td>qna 50</td>\n",
       "      <td>Apa saja contoh kasus pidana yang termasuk ke ...</td>\n",
       "    </tr>\n",
       "    <tr>\n",
       "      <th>278</th>\n",
       "      <td>qna 50</td>\n",
       "      <td>Sebutkan beberapa jenis kasus pidana yang diat...</td>\n",
       "    </tr>\n",
       "    <tr>\n",
       "      <th>279</th>\n",
       "      <td>qna 50</td>\n",
       "      <td>Bagaimana hukuman dalam kasus pidana khusus di...</td>\n",
       "    </tr>\n",
       "    <tr>\n",
       "      <th>280</th>\n",
       "      <td>qna 50</td>\n",
       "      <td>Apa yang membedakan kasus pidana khusus dengan...</td>\n",
       "    </tr>\n",
       "    <tr>\n",
       "      <th>281</th>\n",
       "      <td>qna 50</td>\n",
       "      <td>Bagaimana penanganan hukum terhadap kasus pida...</td>\n",
       "    </tr>\n",
       "  </tbody>\n",
       "</table>\n",
       "<p>282 rows × 2 columns</p>\n",
       "</div>"
      ],
      "text/plain": [
       "        tag                                           patterns\n",
       "0     qna 1  Apa tujuan utama dari pembentukan Kitab Undang...\n",
       "1     qna 1  Mengapa diperlukan pembentukan Kitab Undang-Un...\n",
       "2     qna 1  Apa alasan utama di balik revisi Kitab Undang-...\n",
       "3     qna 1  Apa yang mendorong pembaruan Kitab Undang-Unda...\n",
       "4     qna 1  Apa motivasi utama dalam menyusun KUHP yang baru?\n",
       "..      ...                                                ...\n",
       "277  qna 50  Apa saja contoh kasus pidana yang termasuk ke ...\n",
       "278  qna 50  Sebutkan beberapa jenis kasus pidana yang diat...\n",
       "279  qna 50  Bagaimana hukuman dalam kasus pidana khusus di...\n",
       "280  qna 50  Apa yang membedakan kasus pidana khusus dengan...\n",
       "281  qna 50  Bagaimana penanganan hukum terhadap kasus pida...\n",
       "\n",
       "[282 rows x 2 columns]"
      ]
     },
     "execution_count": 23,
     "metadata": {},
     "output_type": "execute_result"
    }
   ],
   "source": [
    "#dictionaries\n",
    "dict = {\"tag\":[], \"patterns\":[]}\n",
    "\n",
    "for i in range (len(val_data)):\n",
    "  pattern = val_data[val_data.index==i]['patterns'].values[0]  \n",
    "  tag = val_data[val_data.index==i]['tag'].values[0]\n",
    "  for j in range (len(pattern)):\n",
    "    dict['tag'].append(tag)\n",
    "    dict['patterns'].append(pattern[j])\n",
    "\n",
    "val_data = pd.DataFrame.from_dict(dict)\n",
    "val_data"
   ]
  },
  {
   "cell_type": "code",
   "execution_count": 24,
   "metadata": {},
   "outputs": [
    {
     "data": {
      "text/plain": [
       "array(['qna 1', 'qna 2', 'qna 3', 'qna 4', 'qna 5', 'qna 6', 'qna 7',\n",
       "       'qna 8', 'qna 9', 'qna 10', 'qna 11', 'qna 12', 'qna 13', 'qna 14',\n",
       "       'qna 15', 'qna 16', 'qna 17', 'qna 18', 'qna 19', 'qna 20',\n",
       "       'qna 21', 'qna 22', 'qna 23', 'qna 24', 'qna 25', 'qna 26',\n",
       "       'qna 27', 'qna 28', 'qna 29', 'qna 30', 'qna 31', 'qna 32',\n",
       "       'qna 33', 'qna 34', 'qna 35', 'qna 36', 'qna 37', 'qna 38',\n",
       "       'qna 39', 'qna 40', 'qna 41', 'qna 42', 'qna 43', 'qna 44',\n",
       "       'qna 45', 'qna 46', 'qna 47', 'qna 48', 'qna 49', 'qna 50'],\n",
       "      dtype=object)"
      ]
     },
     "execution_count": 24,
     "metadata": {},
     "output_type": "execute_result"
    }
   ],
   "source": [
    "# Training\n",
    "data['tag'].unique()"
   ]
  },
  {
   "cell_type": "code",
   "execution_count": 25,
   "metadata": {},
   "outputs": [
    {
     "name": "stdout",
     "output_type": "stream",
     "text": [
      "18727\n"
     ]
    }
   ],
   "source": [
    "with open('C:/Users/khalf/Code/LegalScope/LegalScopeChatbot/dictionaries.json', 'r') as r:\n",
    "  json_dict = json.load(r)\n",
    "tokenizer_json=json_dict.keys()\n",
    "\n",
    "tokenizer = Tokenizer(oov_token='')\n",
    "tokenizer.fit_on_texts(tokenizer_json)\n",
    "\n",
    "word_index = tokenizer.word_index\n",
    "print(len(word_index))"
   ]
  },
  {
   "cell_type": "code",
   "execution_count": 26,
   "metadata": {},
   "outputs": [
    {
     "name": "stderr",
     "output_type": "stream",
     "text": [
      "'wget' is not recognized as an internal or external command,\n",
      "operable program or batch file.\n",
      "'unzip' is not recognized as an internal or external command,\n",
      "operable program or batch file.\n"
     ]
    }
   ],
   "source": [
    "# !rm -f glove.6B.zip\n",
    "!wget https://nlp.stanford.edu/data/glove.6B.zip\n",
    "!unzip glove.6B.zip"
   ]
  },
  {
   "cell_type": "code",
   "execution_count": 27,
   "metadata": {},
   "outputs": [],
   "source": [
    "\n",
    "from pyexpat import model\n",
    "\n",
    "\n",
    "def chatbot_test():\n",
    "  while True:\n",
    "    user_input = input(\"User: \").lower()\n",
    "    pattern_test= user_input\n",
    "    pattern_test = tokenizer.texts_to_sequences([pattern_test])\n",
    "    x_test = pad_sequences(pattern_test, x_train.shape[1])\n",
    "\n",
    "    prediction = model.predict(x_test)[0]\n",
    "    label = label_encode.inverse_transform([np.argmax(prediction)])[0]\n",
    "    response = data[data['tag'] == label]['responses'].values[0]\n",
    "    print(\"Label:\",label)\n",
    "    print(\"Chatbot: \", format(random.choice(response)))\n",
    "    if label=='goodbye' or label=='thanks':\n",
    "      break"
   ]
  },
  {
   "cell_type": "code",
   "execution_count": null,
   "metadata": {},
   "outputs": [],
   "source": []
  }
 ],
 "metadata": {
  "kernelspec": {
   "display_name": "Python 3",
   "language": "python",
   "name": "python3"
  },
  "language_info": {
   "codemirror_mode": {
    "name": "ipython",
    "version": 3
   },
   "file_extension": ".py",
   "mimetype": "text/x-python",
   "name": "python",
   "nbconvert_exporter": "python",
   "pygments_lexer": "ipython3",
   "version": "3.12.2"
  }
 },
 "nbformat": 4,
 "nbformat_minor": 2
}

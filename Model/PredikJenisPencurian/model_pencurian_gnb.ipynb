{
  "cells": [
    {
      "cell_type": "code",
      "execution_count": null,
      "metadata": {
        "id": "DgfoCYD-cUB1",
        "outputId": "c2d545e5-29ab-4534-9701-1462743f5e41"
      },
      "outputs": [
        {
          "name": "stdout",
          "output_type": "stream",
          "text": [
            "Collecting seaborn\n",
            "  Downloading seaborn-0.13.2-py3-none-any.whl (294 kB)\n",
            "     -------------------------------------- 294.9/294.9 KB 2.6 MB/s eta 0:00:00\n",
            "Requirement already satisfied: pandas>=1.2 in c:\\users\\lattae\\appdata\\local\\programs\\python\\python39\\lib\\site-packages (from seaborn) (2.2.2)\n",
            "Requirement already satisfied: numpy!=1.24.0,>=1.20 in c:\\users\\lattae\\appdata\\local\\programs\\python\\python39\\lib\\site-packages (from seaborn) (1.26.4)\n",
            "Requirement already satisfied: matplotlib!=3.6.1,>=3.4 in c:\\users\\lattae\\appdata\\local\\programs\\python\\python39\\lib\\site-packages (from seaborn) (3.9.0)\n",
            "Requirement already satisfied: importlib-resources>=3.2.0 in c:\\users\\lattae\\appdata\\local\\programs\\python\\python39\\lib\\site-packages (from matplotlib!=3.6.1,>=3.4->seaborn) (6.4.0)\n",
            "Requirement already satisfied: contourpy>=1.0.1 in c:\\users\\lattae\\appdata\\local\\programs\\python\\python39\\lib\\site-packages (from matplotlib!=3.6.1,>=3.4->seaborn) (1.2.1)\n",
            "Requirement already satisfied: cycler>=0.10 in c:\\users\\lattae\\appdata\\local\\programs\\python\\python39\\lib\\site-packages (from matplotlib!=3.6.1,>=3.4->seaborn) (0.12.1)\n",
            "Requirement already satisfied: kiwisolver>=1.3.1 in c:\\users\\lattae\\appdata\\local\\programs\\python\\python39\\lib\\site-packages (from matplotlib!=3.6.1,>=3.4->seaborn) (1.4.5)\n",
            "Requirement already satisfied: pillow>=8 in c:\\users\\lattae\\appdata\\local\\programs\\python\\python39\\lib\\site-packages (from matplotlib!=3.6.1,>=3.4->seaborn) (10.3.0)\n",
            "Requirement already satisfied: fonttools>=4.22.0 in c:\\users\\lattae\\appdata\\local\\programs\\python\\python39\\lib\\site-packages (from matplotlib!=3.6.1,>=3.4->seaborn) (4.53.0)\n",
            "Requirement already satisfied: packaging>=20.0 in c:\\users\\lattae\\appdata\\roaming\\python\\python39\\site-packages (from matplotlib!=3.6.1,>=3.4->seaborn) (24.1)\n",
            "Requirement already satisfied: python-dateutil>=2.7 in c:\\users\\lattae\\appdata\\roaming\\python\\python39\\site-packages (from matplotlib!=3.6.1,>=3.4->seaborn) (2.9.0.post0)\n",
            "Requirement already satisfied: pyparsing>=2.3.1 in c:\\users\\lattae\\appdata\\local\\programs\\python\\python39\\lib\\site-packages (from matplotlib!=3.6.1,>=3.4->seaborn) (3.1.2)\n",
            "Requirement already satisfied: tzdata>=2022.7 in c:\\users\\lattae\\appdata\\local\\programs\\python\\python39\\lib\\site-packages (from pandas>=1.2->seaborn) (2024.1)\n",
            "Requirement already satisfied: pytz>=2020.1 in c:\\users\\lattae\\appdata\\local\\programs\\python\\python39\\lib\\site-packages (from pandas>=1.2->seaborn) (2024.1)\n",
            "Requirement already satisfied: zipp>=3.1.0 in c:\\users\\lattae\\appdata\\roaming\\python\\python39\\site-packages (from importlib-resources>=3.2.0->matplotlib!=3.6.1,>=3.4->seaborn) (3.19.2)\n",
            "Requirement already satisfied: six>=1.5 in c:\\users\\lattae\\appdata\\roaming\\python\\python39\\site-packages (from python-dateutil>=2.7->matplotlib!=3.6.1,>=3.4->seaborn) (1.16.0)\n",
            "Installing collected packages: seaborn\n",
            "Successfully installed seaborn-0.13.2\n",
            "Note: you may need to restart the kernel to use updated packages.\n"
          ]
        },
        {
          "name": "stderr",
          "output_type": "stream",
          "text": [
            "WARNING: You are using pip version 22.0.4; however, version 24.1 is available.\n",
            "You should consider upgrading via the 'c:\\Users\\Lattae\\AppData\\Local\\Programs\\Python\\Python39\\python.exe -m pip install --upgrade pip' command.\n"
          ]
        }
      ],
      "source": [
        "%pip install seaborn"
      ]
    },
    {
      "cell_type": "code",
      "execution_count": 2,
      "metadata": {},
      "outputs": [
        {
          "name": "stdout",
          "output_type": "stream",
          "text": [
            "Collecting imbalanced-learn\n",
            "  Downloading imbalanced_learn-0.12.3-py3-none-any.whl.metadata (8.3 kB)\n",
            "Requirement already satisfied: numpy>=1.17.3 in c:\\users\\lattae\\appdata\\local\\programs\\python\\python39\\lib\\site-packages (from imbalanced-learn) (1.24.3)\n",
            "Requirement already satisfied: scipy>=1.5.0 in c:\\users\\lattae\\appdata\\local\\programs\\python\\python39\\lib\\site-packages (from imbalanced-learn) (1.13.1)\n",
            "Requirement already satisfied: scikit-learn>=1.0.2 in c:\\users\\lattae\\appdata\\local\\programs\\python\\python39\\lib\\site-packages (from imbalanced-learn) (1.5.0)\n",
            "Requirement already satisfied: joblib>=1.1.1 in c:\\users\\lattae\\appdata\\local\\programs\\python\\python39\\lib\\site-packages (from imbalanced-learn) (1.4.2)\n",
            "Requirement already satisfied: threadpoolctl>=2.0.0 in c:\\users\\lattae\\appdata\\local\\programs\\python\\python39\\lib\\site-packages (from imbalanced-learn) (3.5.0)\n",
            "Downloading imbalanced_learn-0.12.3-py3-none-any.whl (258 kB)\n",
            "   ---------------------------------------- 0.0/258.3 kB ? eta -:--:--\n",
            "   ------ --------------------------------- 41.0/258.3 kB 1.9 MB/s eta 0:00:01\n",
            "   ----------------------- ---------------- 153.6/258.3 kB 2.3 MB/s eta 0:00:01\n",
            "   ---------------------------------------- 258.3/258.3 kB 2.3 MB/s eta 0:00:00\n",
            "Installing collected packages: imbalanced-learn\n",
            "Successfully installed imbalanced-learn-0.12.3\n",
            "Note: you may need to restart the kernel to use updated packages.\n"
          ]
        },
        {
          "name": "stderr",
          "output_type": "stream",
          "text": [
            "WARNING: Ignoring invalid distribution -ensorflow-intel (c:\\users\\lattae\\appdata\\roaming\\python\\python39\\site-packages)\n",
            "WARNING: Ignoring invalid distribution -ensorflow-intel (c:\\users\\lattae\\appdata\\roaming\\python\\python39\\site-packages)\n",
            "WARNING: Ignoring invalid distribution -ensorboard (c:\\users\\lattae\\appdata\\local\\programs\\python\\python39\\lib\\site-packages)\n",
            "WARNING: Ignoring invalid distribution -ensorflow-intel (c:\\users\\lattae\\appdata\\roaming\\python\\python39\\site-packages)\n",
            "WARNING: Ignoring invalid distribution -ensorboard (c:\\users\\lattae\\appdata\\local\\programs\\python\\python39\\lib\\site-packages)\n",
            "WARNING: Ignoring invalid distribution -ensorflow-intel (c:\\users\\lattae\\appdata\\roaming\\python\\python39\\site-packages)\n",
            "WARNING: Ignoring invalid distribution -ensorflow-intel (c:\\users\\lattae\\appdata\\roaming\\python\\python39\\site-packages)\n",
            "\n",
            "[notice] A new release of pip is available: 24.1.1 -> 24.2\n",
            "[notice] To update, run: python.exe -m pip install --upgrade pip\n"
          ]
        }
      ],
      "source": [
        "%pip install imbalanced-learn"
      ]
    },
    {
      "cell_type": "code",
      "execution_count": 1,
      "metadata": {
        "id": "R__BI9BPcUB3"
      },
      "outputs": [],
      "source": [
        "import numpy as np\n",
        "import pandas as pd\n",
        "import matplotlib.pyplot as plt\n",
        "import seaborn as sns\n",
        "import os\n",
        "from sklearn.model_selection import train_test_split\n",
        "from sklearn.naive_bayes import GaussianNB\n",
        "import joblib\n",
        "import h5py\n",
        "from imblearn.over_sampling import SMOTE\n",
        "from sklearn.metrics import classification_report, confusion_matrix"
      ]
    },
    {
      "cell_type": "code",
      "execution_count": 2,
      "metadata": {
        "colab": {
          "base_uri": "https://localhost:8080/",
          "height": 614
        },
        "id": "jSqUnXVucUB3",
        "outputId": "fd2a96fc-f911-47a9-aca0-66e667ca6c2f"
      },
      "outputs": [
        {
          "data": {
            "text/html": [
              "<div>\n",
              "<style scoped>\n",
              "    .dataframe tbody tr th:only-of-type {\n",
              "        vertical-align: middle;\n",
              "    }\n",
              "\n",
              "    .dataframe tbody tr th {\n",
              "        vertical-align: top;\n",
              "    }\n",
              "\n",
              "    .dataframe thead th {\n",
              "        text-align: right;\n",
              "    }\n",
              "</style>\n",
              "<table border=\"1\" class=\"dataframe\">\n",
              "  <thead>\n",
              "    <tr style=\"text-align: right;\">\n",
              "      <th></th>\n",
              "      <th>TEMPAT KEJADIAN PENCURIAN</th>\n",
              "      <th>WAKTU KEJADIAN</th>\n",
              "      <th>PELAKU MENGGUNAKAN ALAT</th>\n",
              "      <th>SASARAN KEJAHATAN</th>\n",
              "      <th>JUMLAH KERUGIAN</th>\n",
              "      <th>Modus Operandi</th>\n",
              "      <th>JENIS PENCURIAN</th>\n",
              "    </tr>\n",
              "  </thead>\n",
              "  <tbody>\n",
              "    <tr>\n",
              "      <th>0</th>\n",
              "      <td>AREA PARKIR</td>\n",
              "      <td>PAGI</td>\n",
              "      <td>YA</td>\n",
              "      <td>GABUNGAN</td>\n",
              "      <td>BESAR</td>\n",
              "      <td>MERUSAK KUNCI</td>\n",
              "      <td>CURAT</td>\n",
              "    </tr>\n",
              "    <tr>\n",
              "      <th>1</th>\n",
              "      <td>AREA PARKIR</td>\n",
              "      <td>MALAM</td>\n",
              "      <td>YA</td>\n",
              "      <td>BENDA BERGERAK</td>\n",
              "      <td>BESAR</td>\n",
              "      <td>MERUSAK KUNCI</td>\n",
              "      <td>CURAT</td>\n",
              "    </tr>\n",
              "    <tr>\n",
              "      <th>2</th>\n",
              "      <td>JALAN RAYA</td>\n",
              "      <td>MALAM</td>\n",
              "      <td>TIDAK</td>\n",
              "      <td>BENDA TIDAK BERGERAK</td>\n",
              "      <td>KECIL</td>\n",
              "      <td>MERAMPAS</td>\n",
              "      <td>CURAS</td>\n",
              "    </tr>\n",
              "    <tr>\n",
              "      <th>3</th>\n",
              "      <td>HALAMAN RUMAH</td>\n",
              "      <td>PAGI</td>\n",
              "      <td>YA</td>\n",
              "      <td>BENDA BERGERAK</td>\n",
              "      <td>BESAR</td>\n",
              "      <td>MERUSAK KUNCI</td>\n",
              "      <td>CURAT</td>\n",
              "    </tr>\n",
              "    <tr>\n",
              "      <th>4</th>\n",
              "      <td>DALAM RUMAH</td>\n",
              "      <td>SIANG</td>\n",
              "      <td>TIDAK</td>\n",
              "      <td>BENDA TIDAK BERGERAK</td>\n",
              "      <td>BESAR</td>\n",
              "      <td>MENGAMBIL</td>\n",
              "      <td>CUBIS</td>\n",
              "    </tr>\n",
              "    <tr>\n",
              "      <th>...</th>\n",
              "      <td>...</td>\n",
              "      <td>...</td>\n",
              "      <td>...</td>\n",
              "      <td>...</td>\n",
              "      <td>...</td>\n",
              "      <td>...</td>\n",
              "      <td>...</td>\n",
              "    </tr>\n",
              "    <tr>\n",
              "      <th>1666</th>\n",
              "      <td>DALAM RUMAH</td>\n",
              "      <td>DINI HARI</td>\n",
              "      <td>TIDAK</td>\n",
              "      <td>BENDA TIDAK BERGERAK</td>\n",
              "      <td>BESAR</td>\n",
              "      <td>MENGAMBIL</td>\n",
              "      <td>CUBIS</td>\n",
              "    </tr>\n",
              "    <tr>\n",
              "      <th>1667</th>\n",
              "      <td>DALAM RUMAH</td>\n",
              "      <td>PAGI</td>\n",
              "      <td>TIDAK</td>\n",
              "      <td>BENDA TIDAK BERGERAK</td>\n",
              "      <td>BESAR</td>\n",
              "      <td>MENGAMBIL</td>\n",
              "      <td>CUBIS</td>\n",
              "    </tr>\n",
              "    <tr>\n",
              "      <th>1668</th>\n",
              "      <td>DALAM RUMAH</td>\n",
              "      <td>MALAM</td>\n",
              "      <td>TIDAK</td>\n",
              "      <td>BENDA TIDAK BERGERAK</td>\n",
              "      <td>BESAR</td>\n",
              "      <td>MENGAMBIL</td>\n",
              "      <td>CUBIS</td>\n",
              "    </tr>\n",
              "    <tr>\n",
              "      <th>1669</th>\n",
              "      <td>DALAM RUMAH</td>\n",
              "      <td>MALAM</td>\n",
              "      <td>TIDAK</td>\n",
              "      <td>BENDA TIDAK BERGERAK</td>\n",
              "      <td>BESAR</td>\n",
              "      <td>MENGAMBIL</td>\n",
              "      <td>CUBIS</td>\n",
              "    </tr>\n",
              "    <tr>\n",
              "      <th>1670</th>\n",
              "      <td>DALAM RUMAH</td>\n",
              "      <td>SORE</td>\n",
              "      <td>TIDAK</td>\n",
              "      <td>BENDA TIDAK BERGERAK</td>\n",
              "      <td>BESAR</td>\n",
              "      <td>MENGAMBIL</td>\n",
              "      <td>CUBIS</td>\n",
              "    </tr>\n",
              "  </tbody>\n",
              "</table>\n",
              "<p>1671 rows × 7 columns</p>\n",
              "</div>"
            ],
            "text/plain": [
              "     TEMPAT KEJADIAN PENCURIAN WAKTU KEJADIAN PELAKU MENGGUNAKAN ALAT  \\\n",
              "0                  AREA PARKIR           PAGI                      YA   \n",
              "1                  AREA PARKIR          MALAM                      YA   \n",
              "2                   JALAN RAYA          MALAM                   TIDAK   \n",
              "3                HALAMAN RUMAH           PAGI                      YA   \n",
              "4                  DALAM RUMAH          SIANG                   TIDAK   \n",
              "...                        ...            ...                     ...   \n",
              "1666               DALAM RUMAH      DINI HARI                   TIDAK   \n",
              "1667               DALAM RUMAH           PAGI                   TIDAK   \n",
              "1668               DALAM RUMAH          MALAM                   TIDAK   \n",
              "1669               DALAM RUMAH          MALAM                   TIDAK   \n",
              "1670               DALAM RUMAH           SORE                   TIDAK   \n",
              "\n",
              "         SASARAN KEJAHATAN JUMLAH KERUGIAN Modus Operandi JENIS PENCURIAN  \n",
              "0                 GABUNGAN           BESAR  MERUSAK KUNCI           CURAT  \n",
              "1           BENDA BERGERAK           BESAR  MERUSAK KUNCI           CURAT  \n",
              "2     BENDA TIDAK BERGERAK           KECIL       MERAMPAS           CURAS  \n",
              "3           BENDA BERGERAK           BESAR  MERUSAK KUNCI           CURAT  \n",
              "4     BENDA TIDAK BERGERAK           BESAR      MENGAMBIL           CUBIS  \n",
              "...                    ...             ...            ...             ...  \n",
              "1666  BENDA TIDAK BERGERAK           BESAR      MENGAMBIL           CUBIS  \n",
              "1667  BENDA TIDAK BERGERAK           BESAR      MENGAMBIL           CUBIS  \n",
              "1668  BENDA TIDAK BERGERAK           BESAR      MENGAMBIL           CUBIS  \n",
              "1669  BENDA TIDAK BERGERAK           BESAR      MENGAMBIL           CUBIS  \n",
              "1670  BENDA TIDAK BERGERAK           BESAR      MENGAMBIL           CUBIS  \n",
              "\n",
              "[1671 rows x 7 columns]"
            ]
          },
          "execution_count": 2,
          "metadata": {},
          "output_type": "execute_result"
        }
      ],
      "source": [
        "data = pd.read_csv(\"./Dataset/Dataset Kasus Pencurian.csv\")\n",
        "data"
      ]
    },
    {
      "cell_type": "code",
      "execution_count": 3,
      "metadata": {
        "colab": {
          "base_uri": "https://localhost:8080/"
        },
        "id": "6gi70a2gcUB3",
        "outputId": "822b23e1-e39f-489a-9175-9b68f797f8b6"
      },
      "outputs": [
        {
          "name": "stdout",
          "output_type": "stream",
          "text": [
            "<class 'pandas.core.frame.DataFrame'>\n",
            "RangeIndex: 1671 entries, 0 to 1670\n",
            "Data columns (total 7 columns):\n",
            " #   Column                     Non-Null Count  Dtype \n",
            "---  ------                     --------------  ----- \n",
            " 0   TEMPAT KEJADIAN PENCURIAN  1671 non-null   object\n",
            " 1   WAKTU KEJADIAN             1671 non-null   object\n",
            " 2   PELAKU MENGGUNAKAN ALAT    1671 non-null   object\n",
            " 3   SASARAN KEJAHATAN          1671 non-null   object\n",
            " 4   JUMLAH KERUGIAN            1671 non-null   object\n",
            " 5   Modus Operandi             1671 non-null   object\n",
            " 6   JENIS PENCURIAN            1671 non-null   object\n",
            "dtypes: object(7)\n",
            "memory usage: 91.5+ KB\n"
          ]
        }
      ],
      "source": [
        "# information of data\n",
        "data.info()"
      ]
    },
    {
      "cell_type": "code",
      "execution_count": 4,
      "metadata": {
        "colab": {
          "base_uri": "https://localhost:8080/",
          "height": 209
        },
        "id": "7a4NaypPcUB4",
        "outputId": "6535a1ca-1975-4b69-fef8-bf613f8d6853"
      },
      "outputs": [
        {
          "data": {
            "text/html": [
              "<div>\n",
              "<style scoped>\n",
              "    .dataframe tbody tr th:only-of-type {\n",
              "        vertical-align: middle;\n",
              "    }\n",
              "\n",
              "    .dataframe tbody tr th {\n",
              "        vertical-align: top;\n",
              "    }\n",
              "\n",
              "    .dataframe thead th {\n",
              "        text-align: right;\n",
              "    }\n",
              "</style>\n",
              "<table border=\"1\" class=\"dataframe\">\n",
              "  <thead>\n",
              "    <tr style=\"text-align: right;\">\n",
              "      <th></th>\n",
              "      <th>TEMPAT KEJADIAN PENCURIAN</th>\n",
              "      <th>WAKTU KEJADIAN</th>\n",
              "      <th>PELAKU MENGGUNAKAN ALAT</th>\n",
              "      <th>SASARAN KEJAHATAN</th>\n",
              "      <th>JUMLAH KERUGIAN</th>\n",
              "      <th>Modus Operandi</th>\n",
              "      <th>JENIS PENCURIAN</th>\n",
              "    </tr>\n",
              "  </thead>\n",
              "  <tbody>\n",
              "    <tr>\n",
              "      <th>count</th>\n",
              "      <td>1671</td>\n",
              "      <td>1671</td>\n",
              "      <td>1671</td>\n",
              "      <td>1671</td>\n",
              "      <td>1671</td>\n",
              "      <td>1671</td>\n",
              "      <td>1671</td>\n",
              "    </tr>\n",
              "    <tr>\n",
              "      <th>unique</th>\n",
              "      <td>8</td>\n",
              "      <td>5</td>\n",
              "      <td>2</td>\n",
              "      <td>3</td>\n",
              "      <td>2</td>\n",
              "      <td>10</td>\n",
              "      <td>3</td>\n",
              "    </tr>\n",
              "    <tr>\n",
              "      <th>top</th>\n",
              "      <td>AREA PARKIR</td>\n",
              "      <td>PAGI</td>\n",
              "      <td>YA</td>\n",
              "      <td>BENDA BERGERAK</td>\n",
              "      <td>BESAR</td>\n",
              "      <td>MERUSAK KUNCI</td>\n",
              "      <td>CURAT</td>\n",
              "    </tr>\n",
              "    <tr>\n",
              "      <th>freq</th>\n",
              "      <td>636</td>\n",
              "      <td>446</td>\n",
              "      <td>1089</td>\n",
              "      <td>966</td>\n",
              "      <td>1490</td>\n",
              "      <td>951</td>\n",
              "      <td>1031</td>\n",
              "    </tr>\n",
              "  </tbody>\n",
              "</table>\n",
              "</div>"
            ],
            "text/plain": [
              "       TEMPAT KEJADIAN PENCURIAN WAKTU KEJADIAN PELAKU MENGGUNAKAN ALAT  \\\n",
              "count                       1671           1671                    1671   \n",
              "unique                         8              5                       2   \n",
              "top                  AREA PARKIR           PAGI                      YA   \n",
              "freq                         636            446                    1089   \n",
              "\n",
              "       SASARAN KEJAHATAN JUMLAH KERUGIAN Modus Operandi JENIS PENCURIAN  \n",
              "count               1671            1671           1671            1671  \n",
              "unique                 3               2             10               3  \n",
              "top       BENDA BERGERAK           BESAR  MERUSAK KUNCI           CURAT  \n",
              "freq                 966            1490            951            1031  "
            ]
          },
          "execution_count": 4,
          "metadata": {},
          "output_type": "execute_result"
        }
      ],
      "source": [
        "# Data of values(Max, min, std...)\n",
        "data.describe()"
      ]
    },
    {
      "cell_type": "code",
      "execution_count": 5,
      "metadata": {
        "colab": {
          "base_uri": "https://localhost:8080/"
        },
        "id": "qvsnnIC8cUB4",
        "outputId": "1e43bde5-0fca-493d-d087-205fb82d81e6"
      },
      "outputs": [
        {
          "data": {
            "text/plain": [
              "Index(['tempat_kejadian_pencurian', 'waktu_kejadian',\n",
              "       'pelaku_menggunakan_alat', 'sasaran_kejahatan', 'jumlah_kerugian', 'mo',\n",
              "       'jenis_pencurian'],\n",
              "      dtype='object')"
            ]
          },
          "execution_count": 5,
          "metadata": {},
          "output_type": "execute_result"
        }
      ],
      "source": [
        "# Columns of data\n",
        "rename_columns = {\n",
        "    'TEMPAT KEJADIAN PENCURIAN': 'tempat_kejadian_pencurian',\n",
        "    'WAKTU KEJADIAN': 'waktu_kejadian',\n",
        "    'PELAKU MENGGUNAKAN ALAT': 'pelaku_menggunakan_alat',\n",
        "    'SASARAN KEJAHATAN' : 'sasaran_kejahatan',\n",
        "    'JUMLAH KERUGIAN' : 'jumlah_kerugian',\n",
        "    'Modus Operandi' : 'mo',\n",
        "    'JENIS PENCURIAN' : 'jenis_pencurian'\n",
        "}\n",
        "data.rename(columns=rename_columns, inplace=True)\n",
        "\n",
        "data.columns"
      ]
    },
    {
      "cell_type": "code",
      "execution_count": 6,
      "metadata": {
        "colab": {
          "base_uri": "https://localhost:8080/",
          "height": 644
        },
        "id": "LDNSr7DKcUB4",
        "outputId": "155a73d5-8759-4c44-9a69-0f5fce05f03f"
      },
      "outputs": [
        {
          "name": "stderr",
          "output_type": "stream",
          "text": [
            "C:\\Users\\Lattae\\AppData\\Local\\Temp\\ipykernel_760\\4036815474.py:5: FutureWarning: \n",
            "\n",
            "Passing `palette` without assigning `hue` is deprecated and will be removed in v0.14.0. Assign the `x` variable to `hue` and set `legend=False` for the same effect.\n",
            "\n",
            "  sns.countplot(x=\"jenis_pencurian\", data=data, palette=plt_colors.values())\n"
          ]
        },
        {
          "data": {
            "image/png": "[encoded data removed]",
            "text/plain": [
              "<Figure size 640x480 with 1 Axes>"
            ]
          },
          "metadata": {},
          "output_type": "display_data"
        },
        {
          "data": {
            "text/plain": [
              "jenis_pencurian\n",
              "CURAT    1031\n",
              "CUBIS     425\n",
              "CURAS     215\n",
              "Name: count, dtype: int64"
            ]
          },
          "execution_count": 6,
          "metadata": {},
          "output_type": "execute_result"
        }
      ],
      "source": [
        "# Define custom colors for each gender category\n",
        "plt_colors = {\"CUBIS\": \"blue\", \"CURAT\": \"orange\", \"CURAS\": \"yellow\"}\n",
        "\n",
        "# The number of gender in the dataset and its graphic.\n",
        "sns.countplot(x=\"jenis_pencurian\", data=data, palette=plt_colors.values())\n",
        "plt.show()\n",
        "\n",
        "data.loc[:,\"jenis_pencurian\"].value_counts()"
      ]
    },
    {
      "cell_type": "code",
      "execution_count": 7,
      "metadata": {
        "colab": {
          "base_uri": "https://localhost:8080/",
          "height": 597
        },
        "id": "4WGZMm3McUB4",
        "outputId": "9ac669d6-c492-4b26-9b09-538f4784e8f0"
      },
      "outputs": [
        {
          "data": {
            "text/html": [
              "<div>\n",
              "<style scoped>\n",
              "    .dataframe tbody tr th:only-of-type {\n",
              "        vertical-align: middle;\n",
              "    }\n",
              "\n",
              "    .dataframe tbody tr th {\n",
              "        vertical-align: top;\n",
              "    }\n",
              "\n",
              "    .dataframe thead th {\n",
              "        text-align: right;\n",
              "    }\n",
              "</style>\n",
              "<table border=\"1\" class=\"dataframe\">\n",
              "  <thead>\n",
              "    <tr style=\"text-align: right;\">\n",
              "      <th></th>\n",
              "      <th>tempat_kejadian_pencurian</th>\n",
              "      <th>waktu_kejadian</th>\n",
              "      <th>pelaku_menggunakan_alat</th>\n",
              "      <th>sasaran_kejahatan</th>\n",
              "      <th>jumlah_kerugian</th>\n",
              "      <th>mo</th>\n",
              "      <th>jenis_pencurian</th>\n",
              "    </tr>\n",
              "  </thead>\n",
              "  <tbody>\n",
              "    <tr>\n",
              "      <th>0</th>\n",
              "      <td>AREA PARKIR</td>\n",
              "      <td>PAGI</td>\n",
              "      <td>YA</td>\n",
              "      <td>GABUNGAN</td>\n",
              "      <td>BESAR</td>\n",
              "      <td>MERUSAK KUNCI</td>\n",
              "      <td>CURAT</td>\n",
              "    </tr>\n",
              "    <tr>\n",
              "      <th>1</th>\n",
              "      <td>AREA PARKIR</td>\n",
              "      <td>MALAM</td>\n",
              "      <td>YA</td>\n",
              "      <td>BENDA BERGERAK</td>\n",
              "      <td>BESAR</td>\n",
              "      <td>MERUSAK KUNCI</td>\n",
              "      <td>CURAT</td>\n",
              "    </tr>\n",
              "    <tr>\n",
              "      <th>2</th>\n",
              "      <td>JALAN RAYA</td>\n",
              "      <td>MALAM</td>\n",
              "      <td>TIDAK</td>\n",
              "      <td>BENDA TIDAK BERGERAK</td>\n",
              "      <td>KECIL</td>\n",
              "      <td>MERAMPAS</td>\n",
              "      <td>CURAS</td>\n",
              "    </tr>\n",
              "    <tr>\n",
              "      <th>3</th>\n",
              "      <td>HALAMAN RUMAH</td>\n",
              "      <td>PAGI</td>\n",
              "      <td>YA</td>\n",
              "      <td>BENDA BERGERAK</td>\n",
              "      <td>BESAR</td>\n",
              "      <td>MERUSAK KUNCI</td>\n",
              "      <td>CURAT</td>\n",
              "    </tr>\n",
              "    <tr>\n",
              "      <th>4</th>\n",
              "      <td>DALAM RUMAH</td>\n",
              "      <td>SIANG</td>\n",
              "      <td>TIDAK</td>\n",
              "      <td>BENDA TIDAK BERGERAK</td>\n",
              "      <td>BESAR</td>\n",
              "      <td>MENGAMBIL</td>\n",
              "      <td>CUBIS</td>\n",
              "    </tr>\n",
              "    <tr>\n",
              "      <th>...</th>\n",
              "      <td>...</td>\n",
              "      <td>...</td>\n",
              "      <td>...</td>\n",
              "      <td>...</td>\n",
              "      <td>...</td>\n",
              "      <td>...</td>\n",
              "      <td>...</td>\n",
              "    </tr>\n",
              "    <tr>\n",
              "      <th>1666</th>\n",
              "      <td>DALAM RUMAH</td>\n",
              "      <td>DINI HARI</td>\n",
              "      <td>TIDAK</td>\n",
              "      <td>BENDA TIDAK BERGERAK</td>\n",
              "      <td>BESAR</td>\n",
              "      <td>MENGAMBIL</td>\n",
              "      <td>CUBIS</td>\n",
              "    </tr>\n",
              "    <tr>\n",
              "      <th>1667</th>\n",
              "      <td>DALAM RUMAH</td>\n",
              "      <td>PAGI</td>\n",
              "      <td>TIDAK</td>\n",
              "      <td>BENDA TIDAK BERGERAK</td>\n",
              "      <td>BESAR</td>\n",
              "      <td>MENGAMBIL</td>\n",
              "      <td>CUBIS</td>\n",
              "    </tr>\n",
              "    <tr>\n",
              "      <th>1668</th>\n",
              "      <td>DALAM RUMAH</td>\n",
              "      <td>MALAM</td>\n",
              "      <td>TIDAK</td>\n",
              "      <td>BENDA TIDAK BERGERAK</td>\n",
              "      <td>BESAR</td>\n",
              "      <td>MENGAMBIL</td>\n",
              "      <td>CUBIS</td>\n",
              "    </tr>\n",
              "    <tr>\n",
              "      <th>1669</th>\n",
              "      <td>DALAM RUMAH</td>\n",
              "      <td>MALAM</td>\n",
              "      <td>TIDAK</td>\n",
              "      <td>BENDA TIDAK BERGERAK</td>\n",
              "      <td>BESAR</td>\n",
              "      <td>MENGAMBIL</td>\n",
              "      <td>CUBIS</td>\n",
              "    </tr>\n",
              "    <tr>\n",
              "      <th>1670</th>\n",
              "      <td>DALAM RUMAH</td>\n",
              "      <td>SORE</td>\n",
              "      <td>TIDAK</td>\n",
              "      <td>BENDA TIDAK BERGERAK</td>\n",
              "      <td>BESAR</td>\n",
              "      <td>MENGAMBIL</td>\n",
              "      <td>CUBIS</td>\n",
              "    </tr>\n",
              "  </tbody>\n",
              "</table>\n",
              "<p>1671 rows × 7 columns</p>\n",
              "</div>"
            ],
            "text/plain": [
              "     tempat_kejadian_pencurian waktu_kejadian pelaku_menggunakan_alat  \\\n",
              "0                  AREA PARKIR           PAGI                      YA   \n",
              "1                  AREA PARKIR          MALAM                      YA   \n",
              "2                   JALAN RAYA          MALAM                   TIDAK   \n",
              "3                HALAMAN RUMAH           PAGI                      YA   \n",
              "4                  DALAM RUMAH          SIANG                   TIDAK   \n",
              "...                        ...            ...                     ...   \n",
              "1666               DALAM RUMAH      DINI HARI                   TIDAK   \n",
              "1667               DALAM RUMAH           PAGI                   TIDAK   \n",
              "1668               DALAM RUMAH          MALAM                   TIDAK   \n",
              "1669               DALAM RUMAH          MALAM                   TIDAK   \n",
              "1670               DALAM RUMAH           SORE                   TIDAK   \n",
              "\n",
              "         sasaran_kejahatan jumlah_kerugian             mo jenis_pencurian  \n",
              "0                 GABUNGAN           BESAR  MERUSAK KUNCI           CURAT  \n",
              "1           BENDA BERGERAK           BESAR  MERUSAK KUNCI           CURAT  \n",
              "2     BENDA TIDAK BERGERAK           KECIL       MERAMPAS           CURAS  \n",
              "3           BENDA BERGERAK           BESAR  MERUSAK KUNCI           CURAT  \n",
              "4     BENDA TIDAK BERGERAK           BESAR      MENGAMBIL           CUBIS  \n",
              "...                    ...             ...            ...             ...  \n",
              "1666  BENDA TIDAK BERGERAK           BESAR      MENGAMBIL           CUBIS  \n",
              "1667  BENDA TIDAK BERGERAK           BESAR      MENGAMBIL           CUBIS  \n",
              "1668  BENDA TIDAK BERGERAK           BESAR      MENGAMBIL           CUBIS  \n",
              "1669  BENDA TIDAK BERGERAK           BESAR      MENGAMBIL           CUBIS  \n",
              "1670  BENDA TIDAK BERGERAK           BESAR      MENGAMBIL           CUBIS  \n",
              "\n",
              "[1671 rows x 7 columns]"
            ]
          },
          "execution_count": 7,
          "metadata": {},
          "output_type": "execute_result"
        }
      ],
      "source": [
        "data"
      ]
    },
    {
      "cell_type": "code",
      "execution_count": 8,
      "metadata": {
        "colab": {
          "base_uri": "https://localhost:8080/",
          "height": 237
        },
        "id": "8pPnA0cScUB5",
        "outputId": "fe1d31ad-5176-4947-91df-d6f5d8bbe553"
      },
      "outputs": [
        {
          "data": {
            "text/html": [
              "<div>\n",
              "<style scoped>\n",
              "    .dataframe tbody tr th:only-of-type {\n",
              "        vertical-align: middle;\n",
              "    }\n",
              "\n",
              "    .dataframe tbody tr th {\n",
              "        vertical-align: top;\n",
              "    }\n",
              "\n",
              "    .dataframe thead th {\n",
              "        text-align: right;\n",
              "    }\n",
              "</style>\n",
              "<table border=\"1\" class=\"dataframe\">\n",
              "  <thead>\n",
              "    <tr style=\"text-align: right;\">\n",
              "      <th></th>\n",
              "      <th>tempat_kejadian_pencurian</th>\n",
              "      <th>waktu_kejadian</th>\n",
              "      <th>pelaku_menggunakan_alat</th>\n",
              "      <th>sasaran_kejahatan</th>\n",
              "      <th>jumlah_kerugian</th>\n",
              "      <th>mo</th>\n",
              "      <th>jenis_pencurian</th>\n",
              "    </tr>\n",
              "  </thead>\n",
              "  <tbody>\n",
              "    <tr>\n",
              "      <th>0</th>\n",
              "      <td>1</td>\n",
              "      <td>2</td>\n",
              "      <td>0</td>\n",
              "      <td>2</td>\n",
              "      <td>0</td>\n",
              "      <td>6</td>\n",
              "      <td>1</td>\n",
              "    </tr>\n",
              "    <tr>\n",
              "      <th>1</th>\n",
              "      <td>1</td>\n",
              "      <td>1</td>\n",
              "      <td>0</td>\n",
              "      <td>0</td>\n",
              "      <td>0</td>\n",
              "      <td>6</td>\n",
              "      <td>1</td>\n",
              "    </tr>\n",
              "    <tr>\n",
              "      <th>2</th>\n",
              "      <td>5</td>\n",
              "      <td>1</td>\n",
              "      <td>1</td>\n",
              "      <td>1</td>\n",
              "      <td>1</td>\n",
              "      <td>3</td>\n",
              "      <td>2</td>\n",
              "    </tr>\n",
              "    <tr>\n",
              "      <th>3</th>\n",
              "      <td>4</td>\n",
              "      <td>2</td>\n",
              "      <td>0</td>\n",
              "      <td>0</td>\n",
              "      <td>0</td>\n",
              "      <td>6</td>\n",
              "      <td>1</td>\n",
              "    </tr>\n",
              "    <tr>\n",
              "      <th>4</th>\n",
              "      <td>2</td>\n",
              "      <td>3</td>\n",
              "      <td>1</td>\n",
              "      <td>1</td>\n",
              "      <td>0</td>\n",
              "      <td>0</td>\n",
              "      <td>0</td>\n",
              "    </tr>\n",
              "    <tr>\n",
              "      <th>5</th>\n",
              "      <td>1</td>\n",
              "      <td>1</td>\n",
              "      <td>0</td>\n",
              "      <td>0</td>\n",
              "      <td>0</td>\n",
              "      <td>6</td>\n",
              "      <td>1</td>\n",
              "    </tr>\n",
              "  </tbody>\n",
              "</table>\n",
              "</div>"
            ],
            "text/plain": [
              "   tempat_kejadian_pencurian  waktu_kejadian  pelaku_menggunakan_alat  \\\n",
              "0                          1               2                        0   \n",
              "1                          1               1                        0   \n",
              "2                          5               1                        1   \n",
              "3                          4               2                        0   \n",
              "4                          2               3                        1   \n",
              "5                          1               1                        0   \n",
              "\n",
              "   sasaran_kejahatan  jumlah_kerugian  mo  jenis_pencurian  \n",
              "0                  2                0   6                1  \n",
              "1                  0                0   6                1  \n",
              "2                  1                1   3                2  \n",
              "3                  0                0   6                1  \n",
              "4                  1                0   0                0  \n",
              "5                  0                0   6                1  "
            ]
          },
          "execution_count": 8,
          "metadata": {},
          "output_type": "execute_result"
        }
      ],
      "source": [
        "# Change tempat kejadian into numeric\n",
        "data['tempat_kejadian_pencurian'] = data['tempat_kejadian_pencurian'].map({'AREA JALAN RAYA': 0, 'AREA PARKIR': 1, 'DALAM RUMAH': 2, 'GANG RUMAH': 3, 'HALAMAN RUMAH': 4, 'JALAN RAYA': 5, 'parkiran rumah': 6, 'SEKOLAH': 7})\n",
        "\n",
        "# Change waktu kejadian into numeric\n",
        "data['waktu_kejadian'] = data['waktu_kejadian'].map({'DINI HARI': 0, 'MALAM': 1, 'PAGI': 2, 'SIANG': 3, 'SORE': 4})\n",
        "\n",
        "# Change pelaku menggunakan alat into numeric\n",
        "data['pelaku_menggunakan_alat'] = data['pelaku_menggunakan_alat'].map({'YA': 0, 'TIDAK': 1})\n",
        "\n",
        "# Change sasaran kejahatan into numeric\n",
        "data['sasaran_kejahatan'] = data['sasaran_kejahatan'].map({'BENDA BERGERAK': 0, 'BENDA TIDAK BERGERAK': 1, 'GABUNGAN': 2})\n",
        "\n",
        "# Change pelaku menggunakan alat into numeric\n",
        "data['jumlah_kerugian'] = data['jumlah_kerugian'].map({'BESAR': 0, 'KECIL': 1})\n",
        "\n",
        "# Change mo into numeric\n",
        "data['mo'] = data['mo'].map({'MENGAMBIL': 0, 'MENGANCAM': 1, 'MENYELINAP': 2, 'MERAMPAS': 3, 'merusak atm': 4, 'merusak brankas': 5, 'MERUSAK KUNCI': 6, 'MERUSAK RUMAH': 7, 'PANJAT TEMBOK': 8, 'PECAH KACA': 9})\n",
        "\n",
        "# Change jenis_pencurian into numeric\n",
        "data['jenis_pencurian'] = data['jenis_pencurian'].map({'CUBIS': 0, 'CURAT': 1, 'CURAS': 2})\n",
        "\n",
        "# Display the first few rows to verify the changes\n",
        "data.head(6)"
      ]
    },
    {
      "cell_type": "code",
      "execution_count": 9,
      "metadata": {
        "id": "6uS--LancUB5"
      },
      "outputs": [],
      "source": [
        "# Assuming 'data' is your DataFrame\n",
        "data.to_csv('./Dataset/transformed_data.csv', index=False)"
      ]
    },
    {
      "cell_type": "code",
      "execution_count": 10,
      "metadata": {
        "colab": {
          "base_uri": "https://localhost:8080/"
        },
        "id": "1k7GSWZ_cUB5",
        "outputId": "91c89ea1-431b-42ad-b048-f12ce7e8ee83"
      },
      "outputs": [
        {
          "data": {
            "text/plain": [
              "array([1, 1, 2, ..., 0, 0, 0], dtype=int64)"
            ]
          },
          "execution_count": 10,
          "metadata": {},
          "output_type": "execute_result"
        }
      ],
      "source": [
        "# x data\n",
        "x_data = data.drop(['jenis_pencurian'], axis = 1)\n",
        "\n",
        "# y data\n",
        "y_data = data.jenis_pencurian.values\n",
        "\n",
        "# Display x & y data\n",
        "x_data\n",
        "y_data"
      ]
    },
    {
      "cell_type": "code",
      "execution_count": 11,
      "metadata": {
        "id": "xgHccDGpcUB5"
      },
      "outputs": [],
      "source": [
        "# Train test split\n",
        "x_train, x_test, y_train, y_test = train_test_split(x_data,\n",
        "y_data, test_size = 0.3, random_state=1)"
      ]
    },
    {
      "cell_type": "code",
      "execution_count": 12,
      "metadata": {},
      "outputs": [],
      "source": [
        "# Oversample the training data using SMOTE\n",
        "smote = SMOTE(random_state=1)\n",
        "x_train_smote, y_train_smote = smote.fit_resample(x_train, y_train)"
      ]
    },
    {
      "cell_type": "code",
      "execution_count": 14,
      "metadata": {},
      "outputs": [
        {
          "name": "stderr",
          "output_type": "stream",
          "text": [
            "C:\\Users\\Lattae\\AppData\\Local\\Temp\\ipykernel_760\\961757354.py:8: FutureWarning: \n",
            "\n",
            "Passing `palette` without assigning `hue` is deprecated and will be removed in v0.14.0. Assign the `x` variable to `hue` and set `legend=False` for the same effect.\n",
            "\n",
            "  sns.countplot(x=y_train, palette=plt_colors.values())\n"
          ]
        },
        {
          "data": {
            "text/plain": [
              "Text(0, 0.5, 'Count')"
            ]
          },
          "execution_count": 14,
          "metadata": {},
          "output_type": "execute_result"
        },
        {
          "data": {
            "image/png": "[encoded data removed]",
            "text/plain": [
              "<Figure size 1200x600 with 1 Axes>"
            ]
          },
          "metadata": {},
          "output_type": "display_data"
        }
      ],
      "source": [
        "# Visualize class distribution before SMOTE\n",
        "plt.figure(figsize=(12, 6))\n",
        "\n",
        "# Define custom colors for each gender category\n",
        "plt_colors = {0: \"blue\", 1: \"orange\", 2: \"yellow\"}\n",
        "\n",
        "plt.subplot(1, 2, 1)\n",
        "sns.countplot(x=y_train, palette=plt_colors.values())\n",
        "plt.title(\"Class Distribution Before SMOTE\")\n",
        "plt.xlabel(\"jenis_pencurian\")\n",
        "plt.ylabel(\"Count\")"
      ]
    },
    {
      "cell_type": "code",
      "execution_count": 15,
      "metadata": {},
      "outputs": [
        {
          "name": "stderr",
          "output_type": "stream",
          "text": [
            "C:\\Users\\Lattae\\AppData\\Local\\Temp\\ipykernel_760\\1075871914.py:8: FutureWarning: \n",
            "\n",
            "Passing `palette` without assigning `hue` is deprecated and will be removed in v0.14.0. Assign the `x` variable to `hue` and set `legend=False` for the same effect.\n",
            "\n",
            "  sns.countplot(x=y_train_smote, palette=plt_colors.values())\n"
          ]
        },
        {
          "data": {
            "text/plain": [
              "Text(0, 0.5, 'Count')"
            ]
          },
          "execution_count": 15,
          "metadata": {},
          "output_type": "execute_result"
        },
        {
          "data": {
            "image/png": "[encoded data removed]",
            "text/plain": [
              "<Figure size 1200x600 with 1 Axes>"
            ]
          },
          "metadata": {},
          "output_type": "display_data"
        }
      ],
      "source": [
        "# Visualize class distribution before SMOTE\n",
        "plt.figure(figsize=(12, 6))\n",
        "\n",
        "# Define custom colors for each gender category\n",
        "plt_colors = {0: \"blue\", 1: \"orange\", 2: \"yellow\"}\n",
        "\n",
        "plt.subplot(1, 2, 1)\n",
        "sns.countplot(x=y_train_smote, palette=plt_colors.values())\n",
        "plt.title(\"Class Distribution After SMOTE\")\n",
        "plt.xlabel(\"jenis_pencurian\")\n",
        "plt.ylabel(\"Count\")"
      ]
    },
    {
      "cell_type": "code",
      "execution_count": 24,
      "metadata": {
        "colab": {
          "base_uri": "https://localhost:8080/",
          "height": 74
        },
        "id": "4vFL6-G_cUB5",
        "outputId": "a9c16765-c790-4516-bbb0-b3e7ea2c13fa"
      },
      "outputs": [
        {
          "data": {
            "text/html": [
              "<style>#sk-container-id-1 {\n",
              "  /* Definition of color scheme common for light and dark mode */\n",
              "  --sklearn-color-text: black;\n",
              "  --sklearn-color-line: gray;\n",
              "  /* Definition of color scheme for unfitted estimators */\n",
              "  --sklearn-color-unfitted-level-0: #fff5e6;\n",
              "  --sklearn-color-unfitted-level-1: #f6e4d2;\n",
              "  --sklearn-color-unfitted-level-2: #ffe0b3;\n",
              "  --sklearn-color-unfitted-level-3: chocolate;\n",
              "  /* Definition of color scheme for fitted estimators */\n",
              "  --sklearn-color-fitted-level-0: #f0f8ff;\n",
              "  --sklearn-color-fitted-level-1: #d4ebff;\n",
              "  --sklearn-color-fitted-level-2: #b3dbfd;\n",
              "  --sklearn-color-fitted-level-3: cornflowerblue;\n",
              "\n",
              "  /* Specific color for light theme */\n",
              "  --sklearn-color-text-on-default-background: var(--sg-text-color, var(--theme-code-foreground, var(--jp-content-font-color1, black)));\n",
              "  --sklearn-color-background: var(--sg-background-color, var(--theme-background, var(--jp-layout-color0, white)));\n",
              "  --sklearn-color-border-box: var(--sg-text-color, var(--theme-code-foreground, var(--jp-content-font-color1, black)));\n",
              "  --sklearn-color-icon: #696969;\n",
              "\n",
              "  @media (prefers-color-scheme: dark) {\n",
              "    /* Redefinition of color scheme for dark theme */\n",
              "    --sklearn-color-text-on-default-background: var(--sg-text-color, var(--theme-code-foreground, var(--jp-content-font-color1, white)));\n",
              "    --sklearn-color-background: var(--sg-background-color, var(--theme-background, var(--jp-layout-color0, #111)));\n",
              "    --sklearn-color-border-box: var(--sg-text-color, var(--theme-code-foreground, var(--jp-content-font-color1, white)));\n",
              "    --sklearn-color-icon: #878787;\n",
              "  }\n",
              "}\n",
              "\n",
              "#sk-container-id-1 {\n",
              "  color: var(--sklearn-color-text);\n",
              "}\n",
              "\n",
              "#sk-container-id-1 pre {\n",
              "  padding: 0;\n",
              "}\n",
              "\n",
              "#sk-container-id-1 input.sk-hidden--visually {\n",
              "  border: 0;\n",
              "  clip: rect(1px 1px 1px 1px);\n",
              "  clip: rect(1px, 1px, 1px, 1px);\n",
              "  height: 1px;\n",
              "  margin: -1px;\n",
              "  overflow: hidden;\n",
              "  padding: 0;\n",
              "  position: absolute;\n",
              "  width: 1px;\n",
              "}\n",
              "\n",
              "#sk-container-id-1 div.sk-dashed-wrapped {\n",
              "  border: 1px dashed var(--sklearn-color-line);\n",
              "  margin: 0 0.4em 0.5em 0.4em;\n",
              "  box-sizing: border-box;\n",
              "  padding-bottom: 0.4em;\n",
              "  background-color: var(--sklearn-color-background);\n",
              "}\n",
              "\n",
              "#sk-container-id-1 div.sk-container {\n",
              "  /* jupyter's `normalize.less` sets `[hidden] { display: none; }`\n",
              "     but bootstrap.min.css set `[hidden] { display: none !important; }`\n",
              "     so we also need the `!important` here to be able to override the\n",
              "     default hidden behavior on the sphinx rendered scikit-learn.org.\n",
              "     See: https://github.com/scikit-learn/scikit-learn/issues/21755 */\n",
              "  display: inline-block !important;\n",
              "  position: relative;\n",
              "}\n",
              "\n",
              "#sk-container-id-1 div.sk-text-repr-fallback {\n",
              "  display: none;\n",
              "}\n",
              "\n",
              "div.sk-parallel-item,\n",
              "div.sk-serial,\n",
              "div.sk-item {\n",
              "  /* draw centered vertical line to link estimators */\n",
              "  background-image: linear-gradient(var(--sklearn-color-text-on-default-background), var(--sklearn-color-text-on-default-background));\n",
              "  background-size: 2px 100%;\n",
              "  background-repeat: no-repeat;\n",
              "  background-position: center center;\n",
              "}\n",
              "\n",
              "/* Parallel-specific style estimator block */\n",
              "\n",
              "#sk-container-id-1 div.sk-parallel-item::after {\n",
              "  content: \"\";\n",
              "  width: 100%;\n",
              "  border-bottom: 2px solid var(--sklearn-color-text-on-default-background);\n",
              "  flex-grow: 1;\n",
              "}\n",
              "\n",
              "#sk-container-id-1 div.sk-parallel {\n",
              "  display: flex;\n",
              "  align-items: stretch;\n",
              "  justify-content: center;\n",
              "  background-color: var(--sklearn-color-background);\n",
              "  position: relative;\n",
              "}\n",
              "\n",
              "#sk-container-id-1 div.sk-parallel-item {\n",
              "  display: flex;\n",
              "  flex-direction: column;\n",
              "}\n",
              "\n",
              "#sk-container-id-1 div.sk-parallel-item:first-child::after {\n",
              "  align-self: flex-end;\n",
              "  width: 50%;\n",
              "}\n",
              "\n",
              "#sk-container-id-1 div.sk-parallel-item:last-child::after {\n",
              "  align-self: flex-start;\n",
              "  width: 50%;\n",
              "}\n",
              "\n",
              "#sk-container-id-1 div.sk-parallel-item:only-child::after {\n",
              "  width: 0;\n",
              "}\n",
              "\n",
              "/* Serial-specific style estimator block */\n",
              "\n",
              "#sk-container-id-1 div.sk-serial {\n",
              "  display: flex;\n",
              "  flex-direction: column;\n",
              "  align-items: center;\n",
              "  background-color: var(--sklearn-color-background);\n",
              "  padding-right: 1em;\n",
              "  padding-left: 1em;\n",
              "}\n",
              "\n",
              "\n",
              "/* Toggleable style: style used for estimator/Pipeline/ColumnTransformer box that is\n",
              "clickable and can be expanded/collapsed.\n",
              "- Pipeline and ColumnTransformer use this feature and define the default style\n",
              "- Estimators will overwrite some part of the style using the `sk-estimator` class\n",
              "*/\n",
              "\n",
              "/* Pipeline and ColumnTransformer style (default) */\n",
              "\n",
              "#sk-container-id-1 div.sk-toggleable {\n",
              "  /* Default theme specific background. It is overwritten whether we have a\n",
              "  specific estimator or a Pipeline/ColumnTransformer */\n",
              "  background-color: var(--sklearn-color-background);\n",
              "}\n",
              "\n",
              "/* Toggleable label */\n",
              "#sk-container-id-1 label.sk-toggleable__label {\n",
              "  cursor: pointer;\n",
              "  display: block;\n",
              "  width: 100%;\n",
              "  margin-bottom: 0;\n",
              "  padding: 0.5em;\n",
              "  box-sizing: border-box;\n",
              "  text-align: center;\n",
              "}\n",
              "\n",
              "#sk-container-id-1 label.sk-toggleable__label-arrow:before {\n",
              "  /* Arrow on the left of the label */\n",
              "  content: \"▸\";\n",
              "  float: left;\n",
              "  margin-right: 0.25em;\n",
              "  color: var(--sklearn-color-icon);\n",
              "}\n",
              "\n",
              "#sk-container-id-1 label.sk-toggleable__label-arrow:hover:before {\n",
              "  color: var(--sklearn-color-text);\n",
              "}\n",
              "\n",
              "/* Toggleable content - dropdown */\n",
              "\n",
              "#sk-container-id-1 div.sk-toggleable__content {\n",
              "  max-height: 0;\n",
              "  max-width: 0;\n",
              "  overflow: hidden;\n",
              "  text-align: left;\n",
              "  /* unfitted */\n",
              "  background-color: var(--sklearn-color-unfitted-level-0);\n",
              "}\n",
              "\n",
              "#sk-container-id-1 div.sk-toggleable__content.fitted {\n",
              "  /* fitted */\n",
              "  background-color: var(--sklearn-color-fitted-level-0);\n",
              "}\n",
              "\n",
              "#sk-container-id-1 div.sk-toggleable__content pre {\n",
              "  margin: 0.2em;\n",
              "  border-radius: 0.25em;\n",
              "  color: var(--sklearn-color-text);\n",
              "  /* unfitted */\n",
              "  background-color: var(--sklearn-color-unfitted-level-0);\n",
              "}\n",
              "\n",
              "#sk-container-id-1 div.sk-toggleable__content.fitted pre {\n",
              "  /* unfitted */\n",
              "  background-color: var(--sklearn-color-fitted-level-0);\n",
              "}\n",
              "\n",
              "#sk-container-id-1 input.sk-toggleable__control:checked~div.sk-toggleable__content {\n",
              "  /* Expand drop-down */\n",
              "  max-height: 200px;\n",
              "  max-width: 100%;\n",
              "  overflow: auto;\n",
              "}\n",
              "\n",
              "#sk-container-id-1 input.sk-toggleable__control:checked~label.sk-toggleable__label-arrow:before {\n",
              "  content: \"▾\";\n",
              "}\n",
              "\n",
              "/* Pipeline/ColumnTransformer-specific style */\n",
              "\n",
              "#sk-container-id-1 div.sk-label input.sk-toggleable__control:checked~label.sk-toggleable__label {\n",
              "  color: var(--sklearn-color-text);\n",
              "  background-color: var(--sklearn-color-unfitted-level-2);\n",
              "}\n",
              "\n",
              "#sk-container-id-1 div.sk-label.fitted input.sk-toggleable__control:checked~label.sk-toggleable__label {\n",
              "  background-color: var(--sklearn-color-fitted-level-2);\n",
              "}\n",
              "\n",
              "/* Estimator-specific style */\n",
              "\n",
              "/* Colorize estimator box */\n",
              "#sk-container-id-1 div.sk-estimator input.sk-toggleable__control:checked~label.sk-toggleable__label {\n",
              "  /* unfitted */\n",
              "  background-color: var(--sklearn-color-unfitted-level-2);\n",
              "}\n",
              "\n",
              "#sk-container-id-1 div.sk-estimator.fitted input.sk-toggleable__control:checked~label.sk-toggleable__label {\n",
              "  /* fitted */\n",
              "  background-color: var(--sklearn-color-fitted-level-2);\n",
              "}\n",
              "\n",
              "#sk-container-id-1 div.sk-label label.sk-toggleable__label,\n",
              "#sk-container-id-1 div.sk-label label {\n",
              "  /* The background is the default theme color */\n",
              "  color: var(--sklearn-color-text-on-default-background);\n",
              "}\n",
              "\n",
              "/* On hover, darken the color of the background */\n",
              "#sk-container-id-1 div.sk-label:hover label.sk-toggleable__label {\n",
              "  color: var(--sklearn-color-text);\n",
              "  background-color: var(--sklearn-color-unfitted-level-2);\n",
              "}\n",
              "\n",
              "/* Label box, darken color on hover, fitted */\n",
              "#sk-container-id-1 div.sk-label.fitted:hover label.sk-toggleable__label.fitted {\n",
              "  color: var(--sklearn-color-text);\n",
              "  background-color: var(--sklearn-color-fitted-level-2);\n",
              "}\n",
              "\n",
              "/* Estimator label */\n",
              "\n",
              "#sk-container-id-1 div.sk-label label {\n",
              "  font-family: monospace;\n",
              "  font-weight: bold;\n",
              "  display: inline-block;\n",
              "  line-height: 1.2em;\n",
              "}\n",
              "\n",
              "#sk-container-id-1 div.sk-label-container {\n",
              "  text-align: center;\n",
              "}\n",
              "\n",
              "/* Estimator-specific */\n",
              "#sk-container-id-1 div.sk-estimator {\n",
              "  font-family: monospace;\n",
              "  border: 1px dotted var(--sklearn-color-border-box);\n",
              "  border-radius: 0.25em;\n",
              "  box-sizing: border-box;\n",
              "  margin-bottom: 0.5em;\n",
              "  /* unfitted */\n",
              "  background-color: var(--sklearn-color-unfitted-level-0);\n",
              "}\n",
              "\n",
              "#sk-container-id-1 div.sk-estimator.fitted {\n",
              "  /* fitted */\n",
              "  background-color: var(--sklearn-color-fitted-level-0);\n",
              "}\n",
              "\n",
              "/* on hover */\n",
              "#sk-container-id-1 div.sk-estimator:hover {\n",
              "  /* unfitted */\n",
              "  background-color: var(--sklearn-color-unfitted-level-2);\n",
              "}\n",
              "\n",
              "#sk-container-id-1 div.sk-estimator.fitted:hover {\n",
              "  /* fitted */\n",
              "  background-color: var(--sklearn-color-fitted-level-2);\n",
              "}\n",
              "\n",
              "/* Specification for estimator info (e.g. \"i\" and \"?\") */\n",
              "\n",
              "/* Common style for \"i\" and \"?\" */\n",
              "\n",
              ".sk-estimator-doc-link,\n",
              "a:link.sk-estimator-doc-link,\n",
              "a:visited.sk-estimator-doc-link {\n",
              "  float: right;\n",
              "  font-size: smaller;\n",
              "  line-height: 1em;\n",
              "  font-family: monospace;\n",
              "  background-color: var(--sklearn-color-background);\n",
              "  border-radius: 1em;\n",
              "  height: 1em;\n",
              "  width: 1em;\n",
              "  text-decoration: none !important;\n",
              "  margin-left: 1ex;\n",
              "  /* unfitted */\n",
              "  border: var(--sklearn-color-unfitted-level-1) 1pt solid;\n",
              "  color: var(--sklearn-color-unfitted-level-1);\n",
              "}\n",
              "\n",
              ".sk-estimator-doc-link.fitted,\n",
              "a:link.sk-estimator-doc-link.fitted,\n",
              "a:visited.sk-estimator-doc-link.fitted {\n",
              "  /* fitted */\n",
              "  border: var(--sklearn-color-fitted-level-1) 1pt solid;\n",
              "  color: var(--sklearn-color-fitted-level-1);\n",
              "}\n",
              "\n",
              "/* On hover */\n",
              "div.sk-estimator:hover .sk-estimator-doc-link:hover,\n",
              ".sk-estimator-doc-link:hover,\n",
              "div.sk-label-container:hover .sk-estimator-doc-link:hover,\n",
              ".sk-estimator-doc-link:hover {\n",
              "  /* unfitted */\n",
              "  background-color: var(--sklearn-color-unfitted-level-3);\n",
              "  color: var(--sklearn-color-background);\n",
              "  text-decoration: none;\n",
              "}\n",
              "\n",
              "div.sk-estimator.fitted:hover .sk-estimator-doc-link.fitted:hover,\n",
              ".sk-estimator-doc-link.fitted:hover,\n",
              "div.sk-label-container:hover .sk-estimator-doc-link.fitted:hover,\n",
              ".sk-estimator-doc-link.fitted:hover {\n",
              "  /* fitted */\n",
              "  background-color: var(--sklearn-color-fitted-level-3);\n",
              "  color: var(--sklearn-color-background);\n",
              "  text-decoration: none;\n",
              "}\n",
              "\n",
              "/* Span, style for the box shown on hovering the info icon */\n",
              ".sk-estimator-doc-link span {\n",
              "  display: none;\n",
              "  z-index: 9999;\n",
              "  position: relative;\n",
              "  font-weight: normal;\n",
              "  right: .2ex;\n",
              "  padding: .5ex;\n",
              "  margin: .5ex;\n",
              "  width: min-content;\n",
              "  min-width: 20ex;\n",
              "  max-width: 50ex;\n",
              "  color: var(--sklearn-color-text);\n",
              "  box-shadow: 2pt 2pt 4pt #999;\n",
              "  /* unfitted */\n",
              "  background: var(--sklearn-color-unfitted-level-0);\n",
              "  border: .5pt solid var(--sklearn-color-unfitted-level-3);\n",
              "}\n",
              "\n",
              ".sk-estimator-doc-link.fitted span {\n",
              "  /* fitted */\n",
              "  background: var(--sklearn-color-fitted-level-0);\n",
              "  border: var(--sklearn-color-fitted-level-3);\n",
              "}\n",
              "\n",
              ".sk-estimator-doc-link:hover span {\n",
              "  display: block;\n",
              "}\n",
              "\n",
              "/* \"?\"-specific style due to the `<a>` HTML tag */\n",
              "\n",
              "#sk-container-id-1 a.estimator_doc_link {\n",
              "  float: right;\n",
              "  font-size: 1rem;\n",
              "  line-height: 1em;\n",
              "  font-family: monospace;\n",
              "  background-color: var(--sklearn-color-background);\n",
              "  border-radius: 1rem;\n",
              "  height: 1rem;\n",
              "  width: 1rem;\n",
              "  text-decoration: none;\n",
              "  /* unfitted */\n",
              "  color: var(--sklearn-color-unfitted-level-1);\n",
              "  border: var(--sklearn-color-unfitted-level-1) 1pt solid;\n",
              "}\n",
              "\n",
              "#sk-container-id-1 a.estimator_doc_link.fitted {\n",
              "  /* fitted */\n",
              "  border: var(--sklearn-color-fitted-level-1) 1pt solid;\n",
              "  color: var(--sklearn-color-fitted-level-1);\n",
              "}\n",
              "\n",
              "/* On hover */\n",
              "#sk-container-id-1 a.estimator_doc_link:hover {\n",
              "  /* unfitted */\n",
              "  background-color: var(--sklearn-color-unfitted-level-3);\n",
              "  color: var(--sklearn-color-background);\n",
              "  text-decoration: none;\n",
              "}\n",
              "\n",
              "#sk-container-id-1 a.estimator_doc_link.fitted:hover {\n",
              "  /* fitted */\n",
              "  background-color: var(--sklearn-color-fitted-level-3);\n",
              "}\n",
              "</style><div id=\"sk-container-id-1\" class=\"sk-top-container\"><div class=\"sk-text-repr-fallback\"><pre>GaussianNB()</pre><b>In a Jupyter environment, please rerun this cell to show the HTML representation or trust the notebook. <br />On GitHub, the HTML representation is unable to render, please try loading this page with nbviewer.org.</b></div><div class=\"sk-container\" hidden><div class=\"sk-item\"><div class=\"sk-estimator fitted sk-toggleable\"><input class=\"sk-toggleable__control sk-hidden--visually\" id=\"sk-estimator-id-1\" type=\"checkbox\" checked><label for=\"sk-estimator-id-1\" class=\"sk-toggleable__label fitted sk-toggleable__label-arrow fitted\">&nbsp;&nbsp;GaussianNB<a class=\"sk-estimator-doc-link fitted\" rel=\"noreferrer\" target=\"_blank\" href=\"https://scikit-learn.org/1.5/modules/generated/sklearn.naive_bayes.GaussianNB.html\">?<span>Documentation for GaussianNB</span></a><span class=\"sk-estimator-doc-link fitted\">i<span>Fitted</span></span></label><div class=\"sk-toggleable__content fitted\"><pre>GaussianNB()</pre></div> </div></div></div></div>"
            ],
            "text/plain": [
              "GaussianNB()"
            ]
          },
          "execution_count": 24,
          "metadata": {},
          "output_type": "execute_result"
        }
      ],
      "source": [
        "# Gaussian Naïve Bayes\n",
        "gnb = GaussianNB()\n",
        "gnb.fit(x_train_smote, y_train_smote)"
      ]
    },
    {
      "cell_type": "code",
      "execution_count": 25,
      "metadata": {
        "colab": {
          "base_uri": "https://localhost:8080/"
        },
        "id": "KEVrA9xKeptN",
        "outputId": "3f66c253-a459-4a8a-d1c4-091d54d0db37"
      },
      "outputs": [
        {
          "name": "stdout",
          "output_type": "stream",
          "text": [
            "Train accuracy of GNB model:  0.9690768531150523\n",
            "Test accuracy of GNB model:  0.9760956175298805\n"
          ]
        }
      ],
      "source": [
        "# Evaluate the model\n",
        "y_train_pred = gnb.predict(x_train_smote)\n",
        "y_test_pred = gnb.predict(x_test)\n",
        "\n",
        "train_accuracy = accuracy_score(y_train_smote, y_train_pred)\n",
        "test_accuracy = accuracy_score(y_test, y_test_pred)\n",
        "\n",
        "print(\"Train accuracy of GNB model: \", train_accuracy)\n",
        "print(\"Test accuracy of GNB model: \", test_accuracy)"
      ]
    },
    {
      "cell_type": "code",
      "execution_count": 26,
      "metadata": {
        "colab": {
          "base_uri": "https://localhost:8080/"
        },
        "id": "U6NDwQX2evTu",
        "outputId": "91edc43d-ef64-4b97-db0b-fdffb6e39978"
      },
      "outputs": [
        {
          "data": {
            "text/plain": [
              "['model_pencurian_gnb_smote.pkl']"
            ]
          },
          "execution_count": 26,
          "metadata": {},
          "output_type": "execute_result"
        }
      ],
      "source": [
        "# Save the model using joblib\n",
        "joblib_file = \"model_pencurian_gnb_smote.pkl\"\n",
        "joblib.dump(gnb, joblib_file)"
      ]
    },
    {
      "cell_type": "code",
      "execution_count": 27,
      "metadata": {
        "colab": {
          "base_uri": "https://localhost:8080/"
        },
        "id": "IlCcmQAHe2ST",
        "outputId": "c044b0b0-adde-4347-89de-2706853e5b87"
      },
      "outputs": [
        {
          "name": "stdout",
          "output_type": "stream",
          "text": [
            "Model saved as model_pencurian.h5\n"
          ]
        }
      ],
      "source": [
        "# Save the model to .h5 format\n",
        "with h5py.File('model_pencurian_gnb_smote.h5', 'w') as hf:\n",
        "    hf.create_dataset('model', data=joblib_file)\n",
        "print(\"Model saved as model_pencurian.h5\")"
      ]
    },
    {
      "cell_type": "markdown",
      "metadata": {
        "id": "kfE3lM89fhkd"
      },
      "source": [
        "# Model Testing"
      ]
    },
    {
      "cell_type": "code",
      "execution_count": 28,
      "metadata": {
        "id": "LD5lZw4EflyO"
      },
      "outputs": [],
      "source": [
        "# Load the model from the .h5 file\n",
        "with h5py.File('model_pencurian_gnb_smote.h5', 'r') as hf:\n",
        "    model_file = hf['model'][()]\n",
        "    gnb = joblib.load(model_file)"
      ]
    },
    {
      "cell_type": "code",
      "execution_count": 29,
      "metadata": {
        "id": "ryqakPlSfrgN"
      },
      "outputs": [],
      "source": [
        "# Prediction using model\n",
        "y_pred = gnb.predict(x_test)"
      ]
    },
    {
      "cell_type": "code",
      "execution_count": 33,
      "metadata": {
        "colab": {
          "base_uri": "https://localhost:8080/"
        },
        "id": "70rMFcQJfxdy",
        "outputId": "75048027-b602-4730-c3d2-deac17dd95ce"
      },
      "outputs": [
        {
          "name": "stdout",
          "output_type": "stream",
          "text": [
            "Confusion Matrix:\n",
            " [[125   0   4]\n",
            " [  0 290   8]\n",
            " [  0   0  75]]\n",
            "Classification Report:\n",
            "               precision    recall  f1-score   support\n",
            "\n",
            "           0       1.00      0.97      0.98       129\n",
            "           1       1.00      0.97      0.99       298\n",
            "           2       0.86      1.00      0.93        75\n",
            "\n",
            "    accuracy                           0.98       502\n",
            "   macro avg       0.95      0.98      0.97       502\n",
            "weighted avg       0.98      0.98      0.98       502\n",
            "\n"
          ]
        }
      ],
      "source": [
        "# Confusion matrix and classification report\n",
        "cm = confusion_matrix(y_test, y_test_pred)\n",
        "cr = classification_report(y_test, y_test_pred)\n",
        "\n",
        "print(\"Confusion Matrix:\\n\", cm)\n",
        "print(\"Classification Report:\\n\", cr)"
      ]
    },
    {
      "cell_type": "code",
      "execution_count": 34,
      "metadata": {
        "colab": {
          "base_uri": "https://localhost:8080/",
          "height": 472
        },
        "id": "1FpoCptpgHE2",
        "outputId": "4198705c-61f3-43e1-bfbd-65167655818b"
      },
      "outputs": [
        {
          "data": {
            "image/png": "[encoded data removed]",
            "text/plain": [
              "<Figure size 640x480 with 2 Axes>"
            ]
          },
          "metadata": {},
          "output_type": "display_data"
        }
      ],
      "source": [
        "sns.heatmap(cm, annot=True, fmt=\"d\", cmap=\"Blues\", xticklabels=['CUBIS', 'CURAT', 'CURAS'], yticklabels=['CUBIS', 'CURAT', 'CURAS'])\n",
        "plt.xlabel('Predicted')\n",
        "plt.ylabel('Actual')\n",
        "plt.title('Confusion Matrix')\n",
        "plt.show()"
      ]
    }
  ],
  "metadata": {
    "colab": {
      "provenance": []
    },
    "kernelspec": {
      "display_name": "Python 3",
      "language": "python",
      "name": "python3"
    },
    "language_info": {
      "codemirror_mode": {
        "name": "ipython",
        "version": 3
      },
      "file_extension": ".py",
      "mimetype": "text/x-python",
      "name": "python",
      "nbconvert_exporter": "python",
      "pygments_lexer": "ipython3",
      "version": "3.9.13"
    }
  },
  "nbformat": 4,
  "nbformat_minor": 0
}
